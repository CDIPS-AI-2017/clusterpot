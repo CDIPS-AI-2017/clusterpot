{
 "cells": [
  {
   "cell_type": "markdown",
   "metadata": {},
   "source": [
    "# Getting the data"
   ]
  },
  {
   "cell_type": "code",
   "execution_count": 86,
   "metadata": {
    "collapsed": true
   },
   "outputs": [],
   "source": [
    "import requests\n",
    "import json"
   ]
  },
  {
   "cell_type": "markdown",
   "metadata": {},
   "source": [
    "First find the article ID for the Harry Potter page."
   ]
  },
  {
   "cell_type": "code",
   "execution_count": 96,
   "metadata": {},
   "outputs": [],
   "source": [
    "r = requests.get('http://harrypotter.wikia.com/api/v1/Articles/Top')\n",
    "hp_id = [it['id'] for it in json.loads(r.content)['items'] if it['title'] == 'Harry Potter'][0]"
   ]
  },
  {
   "cell_type": "markdown",
   "metadata": {},
   "source": [
    "Get the content of the page as a JSON file and dump it to file."
   ]
  },
  {
   "cell_type": "code",
   "execution_count": 97,
   "metadata": {},
   "outputs": [],
   "source": [
    "r = requests.get('http://harrypotter.wikia.com/api/v1/Articles/AsSimpleJson', params={'id': hp_id})\n",
    "json.dump(r.content, open('HarryPotterWikia.json', 'w'))"
   ]
  },
  {
   "cell_type": "markdown",
   "metadata": {},
   "source": [
    "## Pulling out the text"
   ]
  },
  {
   "cell_type": "code",
   "execution_count": 100,
   "metadata": {
    "collapsed": true
   },
   "outputs": [],
   "source": [
    "cont = json.loads(r.content)"
   ]
  },
  {
   "cell_type": "code",
   "execution_count": 123,
   "metadata": {},
   "outputs": [],
   "source": [
    "with open('HarryPotterWikia.txt', 'w') as f:\n",
    "    for section in cont['sections']:\n",
    "        f.write(section['title'].encode('utf8')+'\\n')\n",
    "        for unit in section['content']:\n",
    "            if unit['type'] == 'paragraph':\n",
    "                f.write(unit['text'].encode('utf8')+'\\n')"
   ]
  },
  {
   "cell_type": "markdown",
   "metadata": {},
   "source": [
    "# Playing with NLP on the text"
   ]
  },
  {
   "cell_type": "code",
   "execution_count": 98,
   "metadata": {
    "collapsed": true
   },
   "outputs": [],
   "source": [
    "import textacy"
   ]
  },
  {
   "cell_type": "code",
   "execution_count": 155,
   "metadata": {},
   "outputs": [],
   "source": [
    "text = textacy.preprocess.transliterate_unicode(open('HarryPotterWikia.txt').read().decode('utf8'))\n",
    "doc = textacy.Doc(text.decode('utf8'), lang=u'en')"
   ]
  },
  {
   "cell_type": "code",
   "execution_count": 206,
   "metadata": {},
   "outputs": [],
   "source": [
    "statements = textacy.extract.semistructured_statements(doc, 'Harry', cue='be')"
   ]
  },
  {
   "cell_type": "code",
   "execution_count": 207,
   "metadata": {},
   "outputs": [
    {
     "name": "stdout",
     "output_type": "stream",
     "text": [
      "(Harry, being, known as the \"Boy Who Lived)\n",
      "(Harry, was, already famous before he arrived at Hogwarts School of Witchcraft and Wizardry.\n",
      ")\n",
      "(Harry, was, under increasing pressure to show that he was not just a famous name)\n",
      "(Harry, was, once again able to control his broom)\n",
      "(Harry, was, to be replaced amusing, and so reverted to teasing Harry about having to stay at Hogwarts for the holidays)\n",
      "(Harry, was, scared to hear Filch's voice approaching, and horrified when he realised who Filch was talking to: Snape)\n",
      "(Harry, was, ready to stay there all night, staring at the family he lost)\n",
      "(Harry, was, worried that it would be impossible with Snape as a referee)\n",
      "(Harry, was, in possession of a dragon)\n",
      "(Harry, was, Slytherin's heir)\n",
      "(Harry, was, worried of the trouble he'll probably go through in order to persuade his aunt or uncle to sign it)\n",
      "(Harry, were, furious with Hermione and they stopped speaking to her)\n",
      "(Harry, was, sceptical until Black and Lupin forced Pettigrew back into his human form)\n",
      "(Harry, was, \"disturbed and dangerous)\n",
      "(Harry, was, able to make it there just minutes late)\n",
      "(Harry, was, not particularly concerned about and something he did not inform anyone of)\n",
      "(Harry, was, furious with Marietta, but Cho insisted on defending her friend)\n",
      "(Harry, was, free of the spell that petrified him)\n",
      "(Harry, was, still completely grief-stricken over the death of his beloved owl)\n",
      "(Harry, were, the only students mentioned by name in the will)\n"
     ]
    }
   ],
   "source": [
    "for i, s in enumerate(statements):\n",
    "    if i < 20:\n",
    "        print(s)"
   ]
  },
  {
   "cell_type": "code",
   "execution_count": 208,
   "metadata": {
    "collapsed": true
   },
   "outputs": [],
   "source": [
    "sovs = textacy.extract.subject_verb_object_triples(doc)"
   ]
  },
  {
   "cell_type": "code",
   "execution_count": 209,
   "metadata": {
    "scrolled": false
   },
   "outputs": [
    {
     "name": "stdout",
     "output_type": "stream",
     "text": [
      "(b., was, blood wizard)\n",
      "(what, proved, to be)\n",
      "(Lord Voldemort, tried, to murder)\n",
      "(he, was, year)\n",
      "(Voldemort, murdered, parents)\n",
      "(they, tried, to protect)\n",
      "(son, had, Muggle aunt)\n",
      "(son, had, to be raised)\n",
      "(charm, would protect, him)\n",
      "(he, was, wizard)\n",
      "(He, began, attending)\n",
      "(Harry, became, friends)\n",
      "(Harry, won, Tournament)\n",
      "(he, lost, godfather)\n",
      "(Harry, played, role)\n",
      "(Battle, saw, deaths)\n",
      "(He, encountered, Voldemort)\n",
      "(doing, was, way)\n",
      "(Voldemort, cursed, him)\n",
      "(Albus Dumbledore, gave, Harry advice)\n"
     ]
    }
   ],
   "source": [
    "for i, sov in enumerate(sovs):\n",
    "    if i < 20:\n",
    "        print(sov)"
   ]
  },
  {
   "cell_type": "code",
   "execution_count": 210,
   "metadata": {},
   "outputs": [
    {
     "data": {
      "text/plain": [
       "[(u'harry', 0.0469206846336103),\n",
       " (u'hermione', 0.010608326944389412),\n",
       " (u'ron', 0.009826473350165532),\n",
       " (u'voldemort', 0.008733421363855971),\n",
       " (u'dumbledore', 0.008457090221454067),\n",
       " (u'hagrid', 0.005796885020150041),\n",
       " (u'hogwarts', 0.005646176666194813),\n",
       " (u'school', 0.0052157088355882075),\n",
       " (u'snape', 0.004358693575276469),\n",
       " (u'time', 0.004329328087827489)]"
      ]
     },
     "execution_count": 210,
     "metadata": {},
     "output_type": "execute_result"
    }
   ],
   "source": [
    "textacy.keyterms.key_terms_from_semantic_network(doc)"
   ]
  }
 ],
 "metadata": {
  "kernelspec": {
   "display_name": "Python 2",
   "language": "python",
   "name": "python2"
  },
  "language_info": {
   "codemirror_mode": {
    "name": "ipython",
    "version": 2
   },
   "file_extension": ".py",
   "mimetype": "text/x-python",
   "name": "python",
   "nbconvert_exporter": "python",
   "pygments_lexer": "ipython2",
   "version": "2.7.12"
  }
 },
 "nbformat": 4,
 "nbformat_minor": 2
}
